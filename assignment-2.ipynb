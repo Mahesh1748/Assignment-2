{
 "cells": [
  {
   "cell_type": "code",
   "execution_count": 1,
   "id": "ad430dc4",
   "metadata": {},
   "outputs": [
    {
     "name": "stdout",
     "output_type": "stream",
     "text": [
      "* \r\n",
      "* * \r\n",
      "* * * \r\n",
      "* * * * \r\n",
      "* * * * * \r\n",
      "* * * * \r\n",
      "* * * \r\n",
      "* * \r\n",
      "* \r\n",
      "\r\n"
     ]
    }
   ],
   "source": [
    "1.\n",
    "# declaring the number of rows\n",
    "no_of_rows = 5 \n",
    "\n",
    "# First for loop to print the first 5 columns of the pattern in increasing order\n",
    "for i in range(0, no_of_rows):\n",
    "    for j in range(0, i + 1):\n",
    "        print(\"*\", end=' ')\n",
    "    print(\"\\r\")\n",
    "\n",
    "# Second for loop to print the second half of the pattern in decreasing order    \n",
    "for i in range(no_of_rows, 0, -1):\n",
    "    for j in range(0, i - 1):\n",
    "        print(\"*\", end=' ')\n",
    "    print(\"\\r\")"
   ]
  },
  {
   "cell_type": "code",
   "execution_count": 3,
   "id": "947cd52e",
   "metadata": {},
   "outputs": [
    {
     "name": "stdout",
     "output_type": "stream",
     "text": [
      "20\n",
      "40\n",
      "60\n",
      "80\n",
      "100\n"
     ]
    }
   ],
   "source": [
    "2.\n",
    "my_list = [10, 20, 30, 40, 50, 60, 70, 80, 90, 100]\n",
    "for i in range(1, len(my_list), 2):\n",
    "    print(my_list[i])\n"
   ]
  },
  {
   "cell_type": "code",
   "execution_count": 4,
   "id": "b4087e99",
   "metadata": {},
   "outputs": [
    {
     "name": "stdout",
     "output_type": "stream",
     "text": [
      "[23, 'Python', 23.98]\n",
      "[<class 'int'>, <class 'str'>, <class 'float'>]\n"
     ]
    }
   ],
   "source": [
    "3.\n",
    "x = [23, \"Python\", 23.98]\n",
    "types = []\n",
    "for i in x:\n",
    "    types.append(type(i))\n",
    "\n",
    "print(x)\n",
    "print(types)"
   ]
  },
  {
   "cell_type": "code",
   "execution_count": 5,
   "id": "c9a081e1",
   "metadata": {},
   "outputs": [
    {
     "name": "stdout",
     "output_type": "stream",
     "text": [
      "[1, 2, 3, 4, 5]\n"
     ]
    }
   ],
   "source": [
    "4.\n",
    "#. Write a function that takes a list and returns a new list with unique items of the first list.\n",
    "\n",
    "def get_unique_list(input_list): #def function is used to defin the function name\n",
    "    return list(set(input_list))\n",
    "\n",
    "sample_list = [1,2,3,3,3,3,4,5]\n",
    "unique_list = get_unique_list(sample_list)\n",
    "print(unique_list)"
   ]
  },
  {
   "cell_type": "code",
   "execution_count": 6,
   "id": "e78546de",
   "metadata": {},
   "outputs": [
    {
     "name": "stdout",
     "output_type": "stream",
     "text": [
      "No. of Upper-case characters: 3\n",
      "No. of Lower-case characters: 12\n"
     ]
    }
   ],
   "source": [
    "5.\n",
    "#Write a function that accepts a string and calculate the number of upper-case letters and lower-case letters.\n",
    "#Input String: 'The quick Brow Fox'\n",
    "\n",
    "def count_cases(string): #def function is used to defin the function name\n",
    "    upper_count = 0\n",
    "    lower_count = 0\n",
    "    for char in string:\n",
    "        if char.isupper():\n",
    "            upper_count += 1\n",
    "        elif char.islower():\n",
    "            lower_count += 1\n",
    "    return upper_count, lower_count\n",
    "\n",
    "input_string = 'The quick Brow Fox'\n",
    "upper_count, lower_count = count_cases(input_string)\n",
    "print(\"No. of Upper-case characters:\", upper_count)\n",
    "print(\"No. of Lower-case characters:\", lower_count)"
   ]
  },
  {
   "cell_type": "code",
   "execution_count": null,
   "id": "c6962732",
   "metadata": {},
   "outputs": [],
   "source": []
  }
 ],
 "metadata": {
  "kernelspec": {
   "display_name": "Python 3 (ipykernel)",
   "language": "python",
   "name": "python3"
  },
  "language_info": {
   "codemirror_mode": {
    "name": "ipython",
    "version": 3
   },
   "file_extension": ".py",
   "mimetype": "text/x-python",
   "name": "python",
   "nbconvert_exporter": "python",
   "pygments_lexer": "ipython3",
   "version": "3.11.0"
  }
 },
 "nbformat": 4,
 "nbformat_minor": 5
}
